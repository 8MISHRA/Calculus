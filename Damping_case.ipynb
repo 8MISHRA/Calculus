{
  "cells": [
    {
      "cell_type": "markdown",
      "metadata": {
        "id": "view-in-github",
        "colab_type": "text"
      },
      "source": [
        "<a href=\"https://colab.research.google.com/github/8MISHRA/Calculus/blob/main/Damping_case.ipynb\" target=\"_parent\"><img src=\"https://colab.research.google.com/assets/colab-badge.svg\" alt=\"Open In Colab\"/></a>"
      ]
    },
    {
      "cell_type": "code",
      "execution_count": null,
      "metadata": {
        "id": "vZrDUIafjIYN"
      },
      "outputs": [],
      "source": [
        "import math\n",
        "import plotly.express as px\n",
        "import matplotlib.pyplot as plt"
      ]
    },
    {
      "cell_type": "code",
      "execution_count": null,
      "metadata": {
        "id": "XVBSl0H8oHEh",
        "colab": {
          "base_uri": "https://localhost:8080/"
        },
        "outputId": "4e597ac5-bc24-4908-f691-55bd255eefed"
      },
      "outputs": [
        {
          "name": "stdout",
          "output_type": "stream",
          "text": [
            "Enter A: 1\n",
            "Enter B: 1\n",
            "Enter C: 4\n",
            "Enter X0: 1\n",
            "Enter V0: 2\n"
          ]
        }
      ],
      "source": [
        "A = float(input('Enter A: '))\n",
        "B = float(input('Enter B: '))\n",
        "C = float(input('Enter C: '))\n",
        "x0 = float(input('Enter X0: '))\n",
        "v0 = float(input('Enter V0: '))\n",
        "D = B**2-4*A*C"
      ]
    },
    {
      "cell_type": "code",
      "execution_count": null,
      "metadata": {
        "id": "gSfbdE0yny4O",
        "colab": {
          "base_uri": "https://localhost:8080/"
        },
        "outputId": "c148cc2b-cf7e-4724-f8f4-8bebe2ed7010"
      },
      "outputs": [
        {
          "output_type": "stream",
          "name": "stdout",
          "text": [
            "under-damped\n"
          ]
        }
      ],
      "source": [
        "def is_type(D):\n",
        "  if D > 0:\n",
        "    return \"over-damped\"\n",
        "  elif D == 0:\n",
        "    return \"critically-damped\"\n",
        "  else:\n",
        "    return \"under-damped\"\n",
        "\n",
        "print(is_type(D))   # Tells the type of the equation made by the given coefficients"
      ]
    },
    {
      "cell_type": "code",
      "execution_count": null,
      "metadata": {
        "id": "zz4jKNIeCNJX"
      },
      "outputs": [],
      "source": [
        "alpha = B/(2*A)\n",
        "beta = (abs(((B*B)/(4*A*A)) - (C/A)))**0.5\n",
        "lmbda1 = -alpha + beta\n",
        "lmbda2 = -alpha - beta\n",
        "# lmbda (1 & 2) are the root of the given equation\n",
        "\n",
        "# accumulators\n",
        "\n",
        "x_list = []\n",
        "t = 0\n",
        "t_list = []"
      ]
    },
    {
      "cell_type": "code",
      "execution_count": null,
      "metadata": {
        "id": "PiruNjk9n9gf"
      },
      "outputs": [],
      "source": [
        "if is_type(D) == \"over-damped\":\n",
        "  D1 = (v0 - lmbda2*x0)/(lmbda1 - lmbda2)\n",
        "  D2 = (v0 - lmbda1*x0)/(lmbda2 - lmbda1)\n",
        "  while t < abs(5/(alpha - beta)):\n",
        "    t_list.append(t)\n",
        "    k = math.exp(lmbda1*t)\n",
        "    x_list.append(k)\n",
        "    t += 0.1\n",
        "\n",
        "elif is_type(D) == \"critically-damped\":\n",
        "  while t <= abs((20*A)/B):\n",
        "    t_list.append(t)\n",
        "    k = (x0 + (v0 - (lmbda1)*x0)*t)*math.exp((-B*t)/(2*A))\n",
        "    x_list.append(k)\n",
        "    t += 0.1\n",
        "\n",
        "else:    # under damping\n",
        "  for t in range (100):\n",
        "    t = t/10\n",
        "    t_list.append(t)\n",
        "    k = math.exp(-alpha*t)*(x0*(math.cos(beta*t))+((v0 + alpha*x0)/beta )*(math.sin(beta*t)))\n",
        "    x_list.append(k)\n",
        "    t += 0.1\n"
      ]
    },
    {
      "cell_type": "code",
      "execution_count": null,
      "metadata": {
        "id": "hwskAMSdxvep",
        "colab": {
          "base_uri": "https://localhost:8080/",
          "height": 283
        },
        "outputId": "7a81d2c6-f865-43c0-d585-36e2d9099f36"
      },
      "outputs": [
        {
          "output_type": "execute_result",
          "data": {
            "text/plain": [
              "[<matplotlib.lines.Line2D at 0x7f67c2f092e0>]"
            ]
          },
          "metadata": {},
          "execution_count": 9
        },
        {
          "output_type": "display_data",
          "data": {
            "text/plain": [
              "<Figure size 432x288 with 1 Axes>"
            ],
            "image/png": "[encoded data removed]"
          },
          "metadata": {
            "needs_background": "light"
          }
        }
      ],
      "source": [
        "# case of over damping\n",
        "plt.plot(t_list,x_list)"
      ]
    },
    {
      "cell_type": "code",
      "execution_count": null,
      "metadata": {
        "id": "dE8x_zlvwsOp",
        "colab": {
          "base_uri": "https://localhost:8080/",
          "height": 285
        },
        "outputId": "798bd3eb-6258-4e38-d94a-20afdb13d95d"
      },
      "outputs": [
        {
          "output_type": "execute_result",
          "data": {
            "text/plain": [
              "[<matplotlib.lines.Line2D at 0x7f67bdb610a0>]"
            ]
          },
          "metadata": {},
          "execution_count": 42
        },
        {
          "output_type": "display_data",
          "data": {
            "text/plain": [
              "<Figure size 432x288 with 1 Axes>"
            ],
            "image/png": "[encoded data removed]"
          },
          "metadata": {
            "needs_background": "light"
          }
        }
      ],
      "source": [
        "# case of critical damping\n",
        "plt.plot(t_list,x_list)"
      ]
    },
    {
      "cell_type": "code",
      "execution_count": null,
      "metadata": {
        "id": "RYSm7qQDvkpw",
        "colab": {
          "base_uri": "https://localhost:8080/",
          "height": 283
        },
        "outputId": "6433b160-e4c4-4096-8238-94afaff283e3"
      },
      "outputs": [
        {
          "output_type": "execute_result",
          "data": {
            "text/plain": [
              "[<matplotlib.lines.Line2D at 0x7f67bd7bf1f0>]"
            ]
          },
          "metadata": {},
          "execution_count": 81
        },
        {
          "output_type": "display_data",
          "data": {
            "text/plain": [
              "<Figure size 432x288 with 1 Axes>"
            ],
            "image/png": "[encoded data removed]"
          },
          "metadata": {
            "needs_background": "light"
          }
        }
      ],
      "source": [
        "# case of underdamping\n",
        "plt.plot(t_list,x_list)"
      ]
    }
  ],
  "metadata": {
    "colab": {
      "provenance": [],
      "authorship_tag": "ABX9TyNvDvcd9+CGenK2ZP0OfYne",
      "include_colab_link": true
    },
    "kernelspec": {
      "display_name": "Python 3",
      "name": "python3"
    },
    "language_info": {
      "name": "python"
    }
  },
  "nbformat": 4,
  "nbformat_minor": 0
}