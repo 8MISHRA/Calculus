{
  "cells": [
    {
      "cell_type": "markdown",
      "metadata": {
        "id": "view-in-github",
        "colab_type": "text"
      },
      "source": [
        "<a href=\"https://colab.research.google.com/github/8MISHRA/Calculus/blob/main/Linear_Regression.ipynb\" target=\"_parent\"><img src=\"https://colab.research.google.com/assets/colab-badge.svg\" alt=\"Open In Colab\"/></a>"
      ]
    },
    {
      "cell_type": "markdown",
      "source": [
        "# **Let's Explore Linear Regression\n",
        "This is a method which is provides approximate estimation for the slope and intercept of a linear equation.\n",
        "We have some error in the basic formula linear equation derived from any experiment.The approximate equation can be expressed as:\n",
        "$$y_{i} = m \\cdot x_{i} + c + ϵ_{i}$$\n",
        "\n",
        "From the above equation we have to find the value of m and c by minimizing the error (ϵ).\n",
        "Expression for sum of erros (SE) is given below which is to be minimized:\n",
        "$$SE = \\sum_{i=1}^{n}(y_{i} - m \\cdot x{i} - c)^2$$ where $m$ is the slope and $c$ is the intercept of the equation.\n",
        "For minimizing this equation to get $m$ and $c$ we have to equate its first derivative with zero as shown:\n",
        "$$\\frac{∂SE}{∂m} = 0  \\quad  and \\quad \\frac{∂SE}{∂c} = 0$$\n",
        "Using these equation we cam find the value of $m$ and $c$ as follows:\n",
        "\n",
        "$m = \\frac{\\overline{xy} - \\overline{x}.\\overline{y}}{\\overline{x^2}-(\\overline{x})^2} \\quad \\quad and \\quad \\quad c = \\overline{y} - m \\cdot \\overline{x}$ \n",
        "Where \n",
        "$$\\overline{x} = \\frac{1}{n}\\sum_{i=1}^{n}x_{i} \\quad \\quad and \\quad \\quad \\overline{y} = \\frac{1}{n}\\sum_{i=1}^{n}y_{i} $$\n",
        "\n",
        "\n"
      ],
      "metadata": {
        "id": "zJAvk__iRGic"
      }
    },
    {
      "cell_type": "markdown",
      "source": [
        "$$ '' \\quad LINEAR \\quad REGRESSION \\quad FOR \\quad LINEAR \\quad EQUATION \\quad '' $$"
      ],
      "metadata": {
        "id": "d2q1vn6OZJWL"
      }
    },
    {
      "cell_type": "code",
      "execution_count": 32,
      "metadata": {
        "id": "RasN6vWWfa_a"
      },
      "outputs": [],
      "source": [
        "# Importing some neccessary modules\n",
        "import matplotlib.pyplot as plt\n",
        "import math\n",
        "import random\n",
        "import plotly.express as px\n",
        "import numpy as np"
      ]
    },
    {
      "cell_type": "code",
      "source": [
        "# Some inputs from the experiment\n",
        "n = int(input('Enter the total number of experiment: '))\n",
        "m = float(input('Enter the value of slope: '))\n",
        "c = float(input('Enter the value of intercept: '))"
      ],
      "metadata": {
        "id": "I0WLX1gyrlBi",
        "colab": {
          "base_uri": "https://localhost:8080/"
        },
        "outputId": "f1b164be-45fc-4568-82f8-80875bc1a358"
      },
      "execution_count": 33,
      "outputs": [
        {
          "name": "stdout",
          "output_type": "stream",
          "text": [
            "Enter the total number of experiment: 150\n",
            "Enter the value of slope: 5\n",
            "Enter the value of intercept: 20\n"
          ]
        }
      ]
    },
    {
      "cell_type": "code",
      "source": [
        "# Function for error \n",
        "def error(alpha, n):\n",
        "  '''Returns the list of error values during experiment\n",
        "\n",
        "  Parameter alpha: A number to manage the fluctuation of error\n",
        "  Precondition: It must be a number i.e. in (int,float)\n",
        "\n",
        "  Parameter n: It is the number of ebservation\n",
        "  precondition: It must be an integer \n",
        "  '''\n",
        "\n",
        "  e_list = []\n",
        "  \n",
        "  for _ in range(n):\n",
        "    e_list.append((random.random()- 0.5) * alpha)\n",
        "  \n",
        "  return e_list"
      ],
      "metadata": {
        "id": "uW1s_nCLsLiZ"
      },
      "execution_count": 35,
      "outputs": []
    },
    {
      "cell_type": "code",
      "source": [
        "# Now it is the turn of the function for slope and intercept \n",
        "def minimize(x_list, y_list, n):\n",
        "  '''\n",
        "  Returns the value of slope(m) and intercept(c)\n",
        "  \n",
        "  Parameter x_list: List of values of inputs\n",
        "  Precondition: This list must contain int or float values\n",
        "\n",
        "  Parameter y_list: List of valus of output of the experiment\n",
        "  Precondition: This list must contain int or float values\n",
        "\n",
        "  Parameter n: It is the number of experiment\n",
        "  Precondition: It must be a positive integer\n",
        "  '''\n",
        "  assert type(x_list) == list,'Please give inputs in a list'\n",
        "  assert type(y_list) == list,'Please provide the outputs in a list'\n",
        "  assert type(n) == int and n>0 , 'n should be a real number of experiment'\n",
        "\n",
        "  # Accumulators...\n",
        "  xy = 0\n",
        "  x = 0\n",
        "  y = 0\n",
        "  x_square = 0\n",
        "\n",
        "  for i in range(n):\n",
        "    y += y_list[i]\n",
        "    x += x_list[i]\n",
        "    x_square += x_list[i] ** 2\n",
        "    xy += x_list[i] * y_list[i]    \n",
        "  xyBar = xy / n\n",
        "  xBar = x / n\n",
        "  yBar = y / n\n",
        "  xSquareBar = x_square / n\n",
        "  xBarSquare = xBar ** 2\n",
        "  # Calculating values of m and c using above terms in above mentoned formula for m and c.\n",
        "  m_new = (xyBar - xBar * yBar) / (xSquareBar - xBarSquare)\n",
        "  c_new = yBar - m * xBar\n",
        "\n",
        "  return (m_new, c_new)"
      ],
      "metadata": {
        "id": "jqigL-tLtg5-"
      },
      "execution_count": 42,
      "outputs": []
    },
    {
      "cell_type": "code",
      "source": [
        "# Plotting for random x and y values\n",
        "x_list = [i/10 for i in range(n)]\n",
        "alpha = 20\n",
        "err_list = error(alpha, n)\n",
        "observed_y =[]\n",
        "for i in range(len(x_list)):\n",
        "  # Using equation of straight line\n",
        "  observed_y.append(m * x_list[i] + c + err_list[i])"
      ],
      "metadata": {
        "id": "E7zQeNsi7K_p"
      },
      "execution_count": 43,
      "outputs": []
    },
    {
      "cell_type": "code",
      "source": [
        "# values for plotting after minimizing error\n",
        "y_analytical =[]\n",
        "new_values = minimize(x_list, observed_y, n)\n",
        "m = new_values[0]\n",
        "c = new_values[1]\n",
        "for i in range(n):\n",
        "  y_analytical.append(m * x_list[i] + c)"
      ],
      "metadata": {
        "id": "LNZQupe79EeT"
      },
      "execution_count": 44,
      "outputs": []
    },
    {
      "cell_type": "code",
      "source": [
        "# Let's play with the graph\n",
        "plt.scatter(x_list, observed_y, label = 'Points for assumed m and c', color='red')\n",
        "plt.plot(x_list, y_analytical, label = 'Line drawn by the calculated m and c', color = 'green')\n",
        "plt.legend()\n",
        "plt.show()\n"
      ],
      "metadata": {
        "colab": {
          "base_uri": "https://localhost:8080/",
          "height": 430
        },
        "id": "Tk6DqWUt-o-U",
        "outputId": "93c62f9d-4221-452a-b70e-071406c34ddd"
      },
      "execution_count": 45,
      "outputs": [
        {
          "output_type": "display_data",
          "data": {
            "text/plain": [
              "<Figure size 640x480 with 1 Axes>"
            ],
            "image/png": "[encoded data removed]"
          },
          "metadata": {}
        }
      ]
    },
    {
      "cell_type": "markdown",
      "source": [
        "$$''\\quad Linear\\quad Regression \\quad For \\quad Exponential \\quad Equation''$$\n",
        "$$y_{i} = y_{i} = β\\cdot e^{γx_{i} + ϵ_{i}}$$\n",
        "To solve this type of equation we have to convert it first into a linear equation by taking its log and then solve it as above linear regression.\n",
        "$$\\log{y_{i}} =  \\log{β} + γ\\cdot x_{i} + ϵ_{i}$$consider  $ \\quad {y_{i}}_{new}= \\log{y_{i}}, \\quad c = \\log{β} \\quad and \\quad m = γ$"
      ],
      "metadata": {
        "id": "u6N_OH4QAGg8"
      }
    },
    {
      "cell_type": "code",
      "source": [
        "# Initial values of beta and gama\n",
        "gama = float(input(\"enter value of gama: \"))\n",
        "beta = float(input(\"enter value of beta: \"))"
      ],
      "metadata": {
        "colab": {
          "base_uri": "https://localhost:8080/"
        },
        "id": "YhUuagKnBjIi",
        "outputId": "b0ca5b84-c31d-42eb-ca3b-973f093e77d3"
      },
      "execution_count": 46,
      "outputs": [
        {
          "name": "stdout",
          "output_type": "stream",
          "text": [
            "enter value of gama: 12\n",
            "enter value of beta: 26\n"
          ]
        }
      ]
    },
    {
      "cell_type": "code",
      "source": [
        "# x_list and y_list to plots for random values of m and c.\n",
        "x_list = [i / 100 for i in range(n)]\n",
        "alpha = 0.8   # Error manager.\n",
        "err_list = error(alpha, n)\n",
        "observed_y = []\n",
        "for i in range(n):\n",
        "    # conveting exponential to straight line and computing value of log(yi) to calculate value of beta and gama.\n",
        "    observed_y.append(math.log(beta) + gama * x_list[i] + err_list[i])"
      ],
      "metadata": {
        "id": "KTRzvbEpBtLN"
      },
      "execution_count": 47,
      "outputs": []
    },
    {
      "cell_type": "code",
      "source": [
        "y_analytical = []\n",
        "new_values = minimize(x_list, observed_y, n)\n",
        "gama = new_values[0]\n",
        "beta = math.exp(new_values[1])\n",
        "for i in range(n):\n",
        "    y_analytical.append(beta * (math.exp(gama * x_list[i])))"
      ],
      "metadata": {
        "id": "QQ5fwCX9EXVi"
      },
      "execution_count": 48,
      "outputs": []
    },
    {
      "cell_type": "code",
      "source": [
        "# Let's play with the graph\n",
        "plt.scatter(x_list, [beta * (math.exp(gama * x_list[i] + err_list[i]))for i in range(n)],label = 'Plot for given Beta and Gama', color='red' )\n",
        "plt.plot(x_list, y_analytical, label = 'graph after using linear regression', color ='green')\n",
        "plt.legend()\n",
        "plt.show()\n"
      ],
      "metadata": {
        "colab": {
          "base_uri": "https://localhost:8080/",
          "height": 445
        },
        "id": "YCKzetu_CXYf",
        "outputId": "5ff4a1f4-32f3-40c8-aac8-3dc676a390ad"
      },
      "execution_count": 49,
      "outputs": [
        {
          "output_type": "display_data",
          "data": {
            "text/plain": [
              "<Figure size 640x480 with 1 Axes>"
            ],
            "image/png": "[encoded data removed]"
          },
          "metadata": {}
        }
      ]
    },
    {
      "cell_type": "markdown",
      "source": [
        "$$ ''\\quad Linear \\quad Regression \\quad For \\quad Polynomial \\quad Function \\quad ''$$\n",
        "$$y_{i} = m_{0} + m_{1}x_{i} + m_{2}x_{i}^{2} + m_{3}x_{i}^{3} + m_{4}x_{i}^{4} + .....$$\n",
        "We have to convert it into multi variable to solve it as per the concept of linear regression.\n",
        "$$y_{i} = m_{0} + m_{1}x_{1i} + m_{2}x_{2i} + m_{3}x_{3i} .......$$\n",
        "Where $ \\quad x_{3i} = x_{i}^{3},\\quad x_{2i} = x_{i}^{2},\\quad  x_{3i} = x_{i}^{3} $ and so on ...\n",
        "Now solution:"
      ],
      "metadata": {
        "id": "DfNOEbVAGFiE"
      }
    },
    {
      "cell_type": "code",
      "source": [
        "# Experiment and getting data of output\n",
        "degree = int(input('Enter the degree of polynomial: '))\n",
        "m_value = [float(input(f'Enter value of m_{i}: ')) for i in range(degree + 1)]\n",
        "x_list = [i / 10 for i in range(n)]\n",
        "alpha = 1\n",
        "err_list = error(alpha, n)\n",
        "observed_y = []\n",
        "for i in range(n):\n",
        "  y = m_value[0]\n",
        "  for j in range(degree):\n",
        "    y += m_value[j + 1]*x_list[i] ** (j + 1)\n",
        "  observed_y.append(y + err_list[i])\n",
        "\n"
      ],
      "metadata": {
        "colab": {
          "base_uri": "https://localhost:8080/"
        },
        "id": "Uqtvi3OLFv6G",
        "outputId": "0074e4b8-3cd0-44f6-ccc9-1ec7d3b211fe"
      },
      "execution_count": 53,
      "outputs": [
        {
          "name": "stdout",
          "output_type": "stream",
          "text": [
            "Enter the degree of polynomial: 5\n",
            "Enter value of m_0: 14\n",
            "Enter value of m_1: 46\n",
            "Enter value of m_2: 625\n",
            "Enter value of m_3: 58\n",
            "Enter value of m_4: 43\n",
            "Enter value of m_5: 48\n"
          ]
        }
      ]
    },
    {
      "cell_type": "code",
      "source": [
        "# calculating value of m's after applying linear regression\n",
        "x_final = []\n",
        "matrix = []\n",
        "c_vector = []\n",
        "for p in range(degree * 2 + 1):\n",
        "  sum = 0\n",
        "  sum1 = 1\n",
        "  for i in range(n):\n",
        "    sum1 += observed_y[i] * x_list[i] ** p\n",
        "    sum += x_list[i] ** p\n",
        "  matrix.append(sum)\n",
        "  if p <= degree:\n",
        "    c_vector.append([sum1])\n",
        "for i in range(degree + 1):\n",
        "  if i > degree:\n",
        "    break\n",
        "  x_final.append(matrix[ i : degree + i + 1])"
      ],
      "metadata": {
        "id": "oVpf0dC5NIAY"
      },
      "execution_count": 54,
      "outputs": []
    },
    {
      "cell_type": "code",
      "source": [
        "# finally cheking closeness between choosen and got values of  m\n",
        "inverse = np.linalg.inv(x_final)\n",
        "product = np.dot(inverse, c_vector)\n",
        "for i in range(degree):\n",
        "  print(f'Choosen values of m_{i}: ', m_value[i])\n",
        "  print(f'Calculated values of m_{i}: ', product[i][0])\n",
        "  print()"
      ],
      "metadata": {
        "colab": {
          "base_uri": "https://localhost:8080/"
        },
        "id": "BibpGNcDPFtM",
        "outputId": "c51a2442-95d9-44c7-ed16-bfdf97fd4082"
      },
      "execution_count": 55,
      "outputs": [
        {
          "output_type": "stream",
          "name": "stdout",
          "text": [
            "Choosen values of m_0:  14.0\n",
            "Calculated values of m_0:  14.006660461425781\n",
            "\n",
            "Choosen values of m_1:  46.0\n",
            "Calculated values of m_1:  46.06239318847656\n",
            "\n",
            "Choosen values of m_2:  625.0\n",
            "Calculated values of m_2:  624.9830455780029\n",
            "\n",
            "Choosen values of m_3:  58.0\n",
            "Calculated values of m_3:  58.00143527984619\n",
            "\n",
            "Choosen values of m_4:  43.0\n",
            "Calculated values of m_4:  42.99996119737625\n",
            "\n"
          ]
        }
      ]
    }
  ],
  "metadata": {
    "colab": {
      "provenance": [],
      "authorship_tag": "ABX9TyOOOsGfIieqmBOQVLydnIvd",
      "include_colab_link": true
    },
    "kernelspec": {
      "display_name": "Python 3",
      "name": "python3"
    },
    "language_info": {
      "name": "python"
    }
  },
  "nbformat": 4,
  "nbformat_minor": 0
}